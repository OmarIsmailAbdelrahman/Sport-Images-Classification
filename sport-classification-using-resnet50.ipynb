{
 "cells": [
  {
   "cell_type": "code",
   "execution_count": 1,
   "id": "56b76b00",
   "metadata": {
    "execution": {
     "iopub.execute_input": "2023-02-08T18:38:25.268460Z",
     "iopub.status.busy": "2023-02-08T18:38:25.267975Z",
     "iopub.status.idle": "2023-02-08T18:38:31.334748Z",
     "shell.execute_reply": "2023-02-08T18:38:31.333761Z"
    },
    "papermill": {
     "duration": 6.076646,
     "end_time": "2023-02-08T18:38:31.337367",
     "exception": false,
     "start_time": "2023-02-08T18:38:25.260721",
     "status": "completed"
    },
    "tags": []
   },
   "outputs": [],
   "source": [
    "import glob\n",
    "import cv2\n",
    "import numpy as np\n",
    "import os\n",
    "import csv\n",
    "import pandas as pd\n",
    "from random import shuffle\n",
    "from tqdm import tqdm\n",
    "from tensorflow.python.framework import ops\n",
    "import matplotlib.pyplot as plt\n",
    "from tensorflow import keras\n",
    "import tensorflow as tf\n",
    "from sklearn.model_selection import train_test_split\n",
    "import os\n",
    "from keras.preprocessing.image import ImageDataGenerator\n",
    "from keras import backend as K\n",
    "import keras\n",
    "from keras.models import Sequential, Model,load_model\n",
    "from keras.callbacks import EarlyStopping,ModelCheckpoint\n",
    "from keras.layers import Input, Add, Dense, Activation, ZeroPadding2D, BatchNormalization, Flatten, Conv2D, AveragePooling2D, MaxPooling2D, GlobalMaxPooling2D,MaxPool2D\n",
    "from keras.preprocessing import image\n",
    "from keras.initializers import glorot_uniform"
   ]
  },
  {
   "cell_type": "code",
   "execution_count": 2,
   "id": "bf0490f0",
   "metadata": {
    "execution": {
     "iopub.execute_input": "2023-02-08T18:38:31.349161Z",
     "iopub.status.busy": "2023-02-08T18:38:31.348649Z",
     "iopub.status.idle": "2023-02-08T18:38:31.357124Z",
     "shell.execute_reply": "2023-02-08T18:38:31.356191Z"
    },
    "papermill": {
     "duration": 0.016677,
     "end_time": "2023-02-08T18:38:31.359209",
     "exception": false,
     "start_time": "2023-02-08T18:38:31.342532",
     "status": "completed"
    },
    "tags": []
   },
   "outputs": [],
   "source": [
    "labels = {\n",
    "    0: 'Basketball',\n",
    "    1: 'Football',\n",
    "    2: 'Rowing',\n",
    "    3: 'Swimming',\n",
    "    4: 'Tennis',\n",
    "    5: 'Yoga', }\n",
    "TRAIN_DIR = 'Train'\n",
    "TEST_DIR = 'Test'\n",
    "IMG_SIZE = 150\n",
    "LR = 0.001\n",
    "MODEL_NAME = 'Sport-cnn'\n",
    "# -----------------------------------------#\n",
    "def create_label(image_name):\n",
    "    \"\"\" Create a one-hot encoded vector from image name \"\"\"\n",
    "    word_label = image_name.split('_')[0]\n",
    "    if word_label == 'Basketball':\n",
    "        return np.array([1, 0, 0, 0, 0, 0])\n",
    "    elif word_label == 'Football':\n",
    "        return np.array([0, 1, 0, 0, 0, 0])\n",
    "    elif word_label == 'Rowing':\n",
    "        return np.array([0, 0, 1, 0, 0, 0])\n",
    "    elif word_label == 'Swimming':\n",
    "        return np.array([0, 0, 0, 1, 0, 0])\n",
    "    elif word_label == 'Tennis':\n",
    "        return np.array([0, 0, 0, 0, 1, 0])\n",
    "    elif word_label == 'Yoga':\n",
    "        return np.array([0, 0, 0, 0, 0, 1])\n",
    "#     else:\n",
    "#         print(word_label,\"XXXXXXXXXXXXXXXXXXXXXXXXXXXXXXXXXXXXXXXXXXXXXXXXXXXXXXXXXXXXXXXXXXXXXXX\")"
   ]
  },
  {
   "cell_type": "code",
   "execution_count": 3,
   "id": "195c45f4",
   "metadata": {
    "execution": {
     "iopub.execute_input": "2023-02-08T18:38:31.369741Z",
     "iopub.status.busy": "2023-02-08T18:38:31.368898Z",
     "iopub.status.idle": "2023-02-08T18:38:52.008552Z",
     "shell.execute_reply": "2023-02-08T18:38:52.007373Z"
    },
    "papermill": {
     "duration": 20.648055,
     "end_time": "2023-02-08T18:38:52.011603",
     "exception": false,
     "start_time": "2023-02-08T18:38:31.363548",
     "status": "completed"
    },
    "tags": []
   },
   "outputs": [
    {
     "name": "stdout",
     "output_type": "stream",
     "text": [
      "skip Test\n",
      "\n",
      "number of images 1681\n",
      "(1681, 2)\n"
     ]
    },
    {
     "name": "stderr",
     "output_type": "stream",
     "text": [
      "/opt/conda/lib/python3.7/site-packages/ipykernel_launcher.py:30: VisibleDeprecationWarning: Creating an ndarray from ragged nested sequences (which is a list-or-tuple of lists-or-tuples-or ndarrays with different lengths or shapes) is deprecated. If you meant to do this, you must specify 'dtype=object' when creating the ndarray.\n"
     ]
    }
   ],
   "source": [
    "def create_data(train_test):\n",
    "    data = []\n",
    "    img_count = 0\n",
    "    folder = '/kaggle/input' +'/' + os.listdir('/kaggle/input')[0]\n",
    "    for folder_type in os.listdir(folder):\n",
    "        directory = folder+'/'+folder_type\n",
    "#         print(directory)\n",
    "        if folder_type.lower() != train_test.lower():\n",
    "            print(\"skip\",folder_type)\n",
    "            continue\n",
    "        print()\n",
    "        for img_name in os.listdir(directory):\n",
    "#             print(\"mame\",img_name,\"directory\",directory)\n",
    "            img_dir = directory+'/'+img_name\n",
    "#             print(img_count,img_dir,)\n",
    "            img_count += 1\n",
    "            img_data = cv2.imread(img_dir)\n",
    "            img_data = cv2.resize(img_data, (IMG_SIZE, IMG_SIZE))\n",
    "            if train_test.lower() == 'train':\n",
    "                data.append([np.array(img_data), create_label(img_name)])\n",
    "            else :\n",
    "                data.append(np.array(img_data))\n",
    "\n",
    "    shuffle(data)\n",
    "    print('number of images',img_count)\n",
    "    return data,img_count\n",
    "\n",
    "\n",
    "data,count = create_data(\"train\")\n",
    "print(np.array(data).shape)"
   ]
  },
  {
   "cell_type": "code",
   "execution_count": 4,
   "id": "689ced7b",
   "metadata": {
    "execution": {
     "iopub.execute_input": "2023-02-08T18:38:52.023378Z",
     "iopub.status.busy": "2023-02-08T18:38:52.023080Z",
     "iopub.status.idle": "2023-02-08T18:38:52.070596Z",
     "shell.execute_reply": "2023-02-08T18:38:52.069538Z"
    },
    "papermill": {
     "duration": 0.058075,
     "end_time": "2023-02-08T18:38:52.075561",
     "exception": false,
     "start_time": "2023-02-08T18:38:52.017486",
     "status": "completed"
    },
    "tags": []
   },
   "outputs": [
    {
     "name": "stdout",
     "output_type": "stream",
     "text": [
      "train (1664, 150, 150, 3) (17, 150, 150, 3) 1664 17\n"
     ]
    },
    {
     "name": "stderr",
     "output_type": "stream",
     "text": [
      "/opt/conda/lib/python3.7/site-packages/ipykernel_launcher.py:2: VisibleDeprecationWarning: Creating an ndarray from ragged nested sequences (which is a list-or-tuple of lists-or-tuples-or ndarrays with different lengths or shapes) is deprecated. If you meant to do this, you must specify 'dtype=object' when creating the ndarray.\n",
      "  \n"
     ]
    }
   ],
   "source": [
    "train_data, test_data = train_test_split(data, test_size=0.01, shuffle=False)\n",
    "train = np.array(train_data)\n",
    "test = test_data\n",
    "\n",
    "# print((train).shape)\n",
    "# [print(np.array(i[0]).shape) for i in train]\n",
    "# [print(np.array(i[1]).shape) for i in train]\n",
    "\n",
    "X_train = np.array([i[0] for i in train]).reshape(-1, IMG_SIZE, IMG_SIZE,3)\n",
    "y_train = [i[1] for i in train]\n",
    "\n",
    "X_test = np.array([i[0] for i in test]).reshape(-1,IMG_SIZE, IMG_SIZE,3)\n",
    "y_test = [i[1] for i in test]\n",
    "\n",
    "print('train',X_train.shape,X_test.shape,len(y_train),len(y_test))\n"
   ]
  },
  {
   "cell_type": "code",
   "execution_count": 5,
   "id": "f808d424",
   "metadata": {
    "execution": {
     "iopub.execute_input": "2023-02-08T18:38:52.087795Z",
     "iopub.status.busy": "2023-02-08T18:38:52.087454Z",
     "iopub.status.idle": "2023-02-08T18:38:52.097028Z",
     "shell.execute_reply": "2023-02-08T18:38:52.095922Z"
    },
    "papermill": {
     "duration": 0.017465,
     "end_time": "2023-02-08T18:38:52.099187",
     "exception": false,
     "start_time": "2023-02-08T18:38:52.081722",
     "status": "completed"
    },
    "tags": []
   },
   "outputs": [],
   "source": [
    "def identity_block(X, f, filters, stage, block):\n",
    "   \n",
    "    conv_name_base = 'res' + str(stage) + block + '_branch'\n",
    "    bn_name_base = 'bn' + str(stage) + block + '_branch'\n",
    "    F1, F2, F3 = filters\n",
    "\n",
    "    X_shortcut = X\n",
    "   \n",
    "    X = Conv2D(filters=F1, kernel_size=(1, 1), strides=(1, 1), padding='valid', name=conv_name_base + '2a', kernel_initializer=glorot_uniform(seed=0))(X)\n",
    "    X = BatchNormalization(axis=3, name=bn_name_base + '2a')(X)\n",
    "    X = Activation('relu')(X)\n",
    "\n",
    "    X = Conv2D(filters=F2, kernel_size=(f, f), strides=(1, 1), padding='same', name=conv_name_base + '2b', kernel_initializer=glorot_uniform(seed=0))(X)\n",
    "    X = BatchNormalization(axis=3, name=bn_name_base + '2b')(X)\n",
    "    X = Activation('relu')(X)\n",
    "\n",
    "    X = Conv2D(filters=F3, kernel_size=(1, 1), strides=(1, 1), padding='valid', name=conv_name_base + '2c', kernel_initializer=glorot_uniform(seed=0))(X)\n",
    "    X = BatchNormalization(axis=3, name=bn_name_base + '2c')(X)\n",
    "\n",
    "    X = Add()([X, X_shortcut])# SKIP Connection\n",
    "    X = Activation('relu')(X)\n",
    "\n",
    "    return X\n"
   ]
  },
  {
   "cell_type": "code",
   "execution_count": 6,
   "id": "cf6e1446",
   "metadata": {
    "execution": {
     "iopub.execute_input": "2023-02-08T18:38:52.110052Z",
     "iopub.status.busy": "2023-02-08T18:38:52.109766Z",
     "iopub.status.idle": "2023-02-08T18:38:52.119870Z",
     "shell.execute_reply": "2023-02-08T18:38:52.119005Z"
    },
    "papermill": {
     "duration": 0.017763,
     "end_time": "2023-02-08T18:38:52.121797",
     "exception": false,
     "start_time": "2023-02-08T18:38:52.104034",
     "status": "completed"
    },
    "tags": []
   },
   "outputs": [],
   "source": [
    "def convolutional_block(X, f, filters, stage, block, s=2):\n",
    "   \n",
    "    conv_name_base = 'res' + str(stage) + block + '_branch'\n",
    "    bn_name_base = 'bn' + str(stage) + block + '_branch'\n",
    "\n",
    "    F1, F2, F3 = filters\n",
    "\n",
    "    X_shortcut = X\n",
    "\n",
    "    X = Conv2D(filters=F1, kernel_size=(1, 1), strides=(s, s), padding='valid', name=conv_name_base + '2a', kernel_initializer=glorot_uniform(seed=0))(X)\n",
    "    X = BatchNormalization(axis=3, name=bn_name_base + '2a')(X)\n",
    "    X = Activation('relu')(X)\n",
    "\n",
    "    X = Conv2D(filters=F2, kernel_size=(f, f), strides=(1, 1), padding='same', name=conv_name_base + '2b', kernel_initializer=glorot_uniform(seed=0))(X)\n",
    "    X = BatchNormalization(axis=3, name=bn_name_base + '2b')(X)\n",
    "    X = Activation('relu')(X)\n",
    "\n",
    "    X = Conv2D(filters=F3, kernel_size=(1, 1), strides=(1, 1), padding='valid', name=conv_name_base + '2c', kernel_initializer=glorot_uniform(seed=0))(X)\n",
    "    X = BatchNormalization(axis=3, name=bn_name_base + '2c')(X)\n",
    "\n",
    "    X_shortcut = Conv2D(filters=F3, kernel_size=(1, 1), strides=(s, s), padding='valid', name=conv_name_base + '1', kernel_initializer=glorot_uniform(seed=0))(X_shortcut)\n",
    "    X_shortcut = BatchNormalization(axis=3, name=bn_name_base + '1')(X_shortcut)\n",
    "\n",
    "    X = Add()([X, X_shortcut])\n",
    "    X = Activation('relu')(X)\n",
    "\n",
    "    return X\n"
   ]
  },
  {
   "cell_type": "code",
   "execution_count": 7,
   "id": "102b9865",
   "metadata": {
    "execution": {
     "iopub.execute_input": "2023-02-08T18:38:52.133636Z",
     "iopub.status.busy": "2023-02-08T18:38:52.132045Z",
     "iopub.status.idle": "2023-02-08T18:38:52.146301Z",
     "shell.execute_reply": "2023-02-08T18:38:52.145293Z"
    },
    "papermill": {
     "duration": 0.021969,
     "end_time": "2023-02-08T18:38:52.148425",
     "exception": false,
     "start_time": "2023-02-08T18:38:52.126456",
     "status": "completed"
    },
    "tags": []
   },
   "outputs": [],
   "source": [
    "def ResNet50(input_shape=(224, 224, 3)):\n",
    "\n",
    "    X_input = Input(input_shape)\n",
    "\n",
    "    X = ZeroPadding2D((3, 3))(X_input)\n",
    "    print(X.shape)\n",
    "    X = Conv2D(64, (7, 7), strides=(2, 2), name='conv1', kernel_initializer=glorot_uniform(seed=0))(X)\n",
    "    X = BatchNormalization(axis=3, name='bn_conv1')(X)\n",
    "    X = Activation('relu')(X)\n",
    "    X = MaxPooling2D((3, 3), strides=(2, 2))(X)\n",
    "\n",
    "    X = convolutional_block(X, f=3, filters=[64, 64, 256], stage=2, block='a', s=1)\n",
    "    X = identity_block(X, 3, [64, 64, 256], stage=2, block='b')\n",
    "    X = identity_block(X, 3, [64, 64, 256], stage=2, block='c')\n",
    "\n",
    "\n",
    "    X = convolutional_block(X, f=3, filters=[128, 128, 512], stage=3, block='a', s=2)\n",
    "    X = identity_block(X, 3, [128, 128, 512], stage=3, block='b')\n",
    "    X = identity_block(X, 3, [128, 128, 512], stage=3, block='c')\n",
    "    X = identity_block(X, 3, [128, 128, 512], stage=3, block='d')\n",
    "\n",
    "    X = convolutional_block(X, f=3, filters=[256, 256, 1024], stage=4, block='a', s=2)\n",
    "    X = identity_block(X, 3, [256, 256, 1024], stage=4, block='b')\n",
    "    X = identity_block(X, 3, [256, 256, 1024], stage=4, block='c')\n",
    "    X = identity_block(X, 3, [256, 256, 1024], stage=4, block='d')\n",
    "    X = identity_block(X, 3, [256, 256, 1024], stage=4, block='e')\n",
    "    X = identity_block(X, 3, [256, 256, 1024], stage=4, block='f')\n",
    "\n",
    "    X = X = convolutional_block(X, f=3, filters=[512, 512, 2048], stage=5, block='a', s=2)\n",
    "    X = identity_block(X, 3, [512, 512, 2048], stage=5, block='b')\n",
    "    X = identity_block(X, 3, [512, 512, 2048], stage=5, block='c')\n",
    "\n",
    "    X = AveragePooling2D(pool_size=(2, 2), padding='same')(X)\n",
    "    \n",
    "    model = Model(inputs=X_input, outputs=X, name='ResNet50')\n",
    "\n",
    "    return model\n"
   ]
  },
  {
   "cell_type": "code",
   "execution_count": 8,
   "id": "d7ca6311",
   "metadata": {
    "execution": {
     "iopub.execute_input": "2023-02-08T18:38:52.158882Z",
     "iopub.status.busy": "2023-02-08T18:38:52.158625Z",
     "iopub.status.idle": "2023-02-08T18:38:55.921389Z",
     "shell.execute_reply": "2023-02-08T18:38:55.920342Z"
    },
    "papermill": {
     "duration": 3.770902,
     "end_time": "2023-02-08T18:38:55.923926",
     "exception": false,
     "start_time": "2023-02-08T18:38:52.153024",
     "status": "completed"
    },
    "tags": []
   },
   "outputs": [
    {
     "name": "stdout",
     "output_type": "stream",
     "text": [
      "(150, 150, 3)\n",
      "(None, 156, 156, 3)\n"
     ]
    },
    {
     "name": "stderr",
     "output_type": "stream",
     "text": [
      "2023-02-08 18:38:52.273564: I tensorflow/stream_executor/cuda/cuda_gpu_executor.cc:937] successful NUMA node read from SysFS had negative value (-1), but there must be at least one NUMA node, so returning NUMA node zero\n",
      "2023-02-08 18:38:52.442281: I tensorflow/stream_executor/cuda/cuda_gpu_executor.cc:937] successful NUMA node read from SysFS had negative value (-1), but there must be at least one NUMA node, so returning NUMA node zero\n",
      "2023-02-08 18:38:52.443094: I tensorflow/stream_executor/cuda/cuda_gpu_executor.cc:937] successful NUMA node read from SysFS had negative value (-1), but there must be at least one NUMA node, so returning NUMA node zero\n",
      "2023-02-08 18:38:52.447924: I tensorflow/core/platform/cpu_feature_guard.cc:142] This TensorFlow binary is optimized with oneAPI Deep Neural Network Library (oneDNN) to use the following CPU instructions in performance-critical operations:  AVX2 AVX512F FMA\n",
      "To enable them in other operations, rebuild TensorFlow with the appropriate compiler flags.\n",
      "2023-02-08 18:38:52.448295: I tensorflow/stream_executor/cuda/cuda_gpu_executor.cc:937] successful NUMA node read from SysFS had negative value (-1), but there must be at least one NUMA node, so returning NUMA node zero\n",
      "2023-02-08 18:38:52.449268: I tensorflow/stream_executor/cuda/cuda_gpu_executor.cc:937] successful NUMA node read from SysFS had negative value (-1), but there must be at least one NUMA node, so returning NUMA node zero\n",
      "2023-02-08 18:38:52.450158: I tensorflow/stream_executor/cuda/cuda_gpu_executor.cc:937] successful NUMA node read from SysFS had negative value (-1), but there must be at least one NUMA node, so returning NUMA node zero\n",
      "2023-02-08 18:38:54.690329: I tensorflow/stream_executor/cuda/cuda_gpu_executor.cc:937] successful NUMA node read from SysFS had negative value (-1), but there must be at least one NUMA node, so returning NUMA node zero\n",
      "2023-02-08 18:38:54.691552: I tensorflow/stream_executor/cuda/cuda_gpu_executor.cc:937] successful NUMA node read from SysFS had negative value (-1), but there must be at least one NUMA node, so returning NUMA node zero\n",
      "2023-02-08 18:38:54.692229: I tensorflow/stream_executor/cuda/cuda_gpu_executor.cc:937] successful NUMA node read from SysFS had negative value (-1), but there must be at least one NUMA node, so returning NUMA node zero\n",
      "2023-02-08 18:38:54.692844: I tensorflow/core/common_runtime/gpu/gpu_device.cc:1510] Created device /job:localhost/replica:0/task:0/device:GPU:0 with 15401 MB memory:  -> device: 0, name: Tesla P100-PCIE-16GB, pci bus id: 0000:00:04.0, compute capability: 6.0\n"
     ]
    }
   ],
   "source": [
    "shape = X_train.shape\n",
    "print(shape[1:])\n",
    "base_model = ResNet50(shape[1:])"
   ]
  },
  {
   "cell_type": "code",
   "execution_count": 9,
   "id": "709e4d16",
   "metadata": {
    "execution": {
     "iopub.execute_input": "2023-02-08T18:38:55.936436Z",
     "iopub.status.busy": "2023-02-08T18:38:55.934969Z",
     "iopub.status.idle": "2023-02-08T18:38:55.963418Z",
     "shell.execute_reply": "2023-02-08T18:38:55.962535Z"
    },
    "papermill": {
     "duration": 0.036376,
     "end_time": "2023-02-08T18:38:55.965445",
     "exception": false,
     "start_time": "2023-02-08T18:38:55.929069",
     "status": "completed"
    },
    "tags": []
   },
   "outputs": [],
   "source": [
    "headModel = base_model.output\n",
    "headModel = Flatten()(headModel)\n",
    "headModel=Dense(256, activation='relu', name='fc1',kernel_initializer=glorot_uniform(seed=0))(headModel)\n",
    "headModel=Dense(128, activation='relu', name='fc2',kernel_initializer=glorot_uniform(seed=0))(headModel)\n",
    "headModel = Dense( 6,activation='softmax', name='fc3',kernel_initializer=glorot_uniform(seed=0))(headModel)\n"
   ]
  },
  {
   "cell_type": "code",
   "execution_count": 10,
   "id": "3e69130d",
   "metadata": {
    "execution": {
     "iopub.execute_input": "2023-02-08T18:38:55.977461Z",
     "iopub.status.busy": "2023-02-08T18:38:55.976078Z",
     "iopub.status.idle": "2023-02-08T18:39:07.183166Z",
     "shell.execute_reply": "2023-02-08T18:39:07.181789Z"
    },
    "papermill": {
     "duration": 11.215736,
     "end_time": "2023-02-08T18:39:07.186018",
     "exception": false,
     "start_time": "2023-02-08T18:38:55.970282",
     "status": "completed"
    },
    "tags": []
   },
   "outputs": [
    {
     "name": "stdout",
     "output_type": "stream",
     "text": [
      "--2023-02-08 18:38:56--  https://drive.google.com/uc?export=download&id=1n7rGZsAvwr6Le-IEHWBgA7ihz3pZA1DE\r\n",
      "Resolving drive.google.com (drive.google.com)... 173.194.217.100, 173.194.217.139, 173.194.217.138, ...\r\n",
      "Connecting to drive.google.com (drive.google.com)|173.194.217.100|:443... connected.\r\n",
      "HTTP request sent, awaiting response... 303 See Other\r\n",
      "Location: https://doc-10-4k-docs.googleusercontent.com/docs/securesc/ha0ro937gcuc7l7deffksulhg5h7mbp1/a5c95nmau1uboh4ia5bsehb73q0n3t4p/1675881525000/07448022858603959601/*/1n7rGZsAvwr6Le-IEHWBgA7ihz3pZA1DE?e=download&uuid=aa328c6b-00e1-4b36-87aa-6f3a36064170 [following]\r\n",
      "Warning: wildcards not supported in HTTP.\r\n",
      "--2023-02-08 18:39:03--  https://doc-10-4k-docs.googleusercontent.com/docs/securesc/ha0ro937gcuc7l7deffksulhg5h7mbp1/a5c95nmau1uboh4ia5bsehb73q0n3t4p/1675881525000/07448022858603959601/*/1n7rGZsAvwr6Le-IEHWBgA7ihz3pZA1DE?e=download&uuid=aa328c6b-00e1-4b36-87aa-6f3a36064170\r\n",
      "Resolving doc-10-4k-docs.googleusercontent.com (doc-10-4k-docs.googleusercontent.com)... 142.251.162.132, 2607:f8b0:400c:c38::84\r\n",
      "Connecting to doc-10-4k-docs.googleusercontent.com (doc-10-4k-docs.googleusercontent.com)|142.251.162.132|:443... connected.\r\n",
      "HTTP request sent, awaiting response... 200 OK\r\n",
      "Length: 94653016 (90M) [application/octet-stream]\r\n",
      "Saving to: ‘uc?export=download&id=1n7rGZsAvwr6Le-IEHWBgA7ihz3pZA1DE’\r\n",
      "\r\n",
      "uc?export=download& 100%[===================>]  90.27M  39.4MB/s    in 2.3s    \r\n",
      "\r\n",
      "2023-02-08 18:39:07 (39.4 MB/s) - ‘uc?export=download&id=1n7rGZsAvwr6Le-IEHWBgA7ihz3pZA1DE’ saved [94653016/94653016]\r\n",
      "\r\n"
     ]
    }
   ],
   "source": [
    "!wget \"https://drive.google.com/uc?export=download&id=1n7rGZsAvwr6Le-IEHWBgA7ihz3pZA1DE\""
   ]
  },
  {
   "cell_type": "code",
   "execution_count": 11,
   "id": "41edd486",
   "metadata": {
    "execution": {
     "iopub.execute_input": "2023-02-08T18:39:07.201521Z",
     "iopub.status.busy": "2023-02-08T18:39:07.200383Z",
     "iopub.status.idle": "2023-02-08T18:39:08.265566Z",
     "shell.execute_reply": "2023-02-08T18:39:08.263904Z"
    },
    "papermill": {
     "duration": 1.07578,
     "end_time": "2023-02-08T18:39:08.268460",
     "exception": false,
     "start_time": "2023-02-08T18:39:07.192680",
     "status": "completed"
    },
    "tags": []
   },
   "outputs": [],
   "source": [
    "!mv \"/kaggle/working/uc?export=download&id=1n7rGZsAvwr6Le-IEHWBgA7ihz3pZA1DE\" \"/kaggle/working/resnet50_weights.h5\""
   ]
  },
  {
   "cell_type": "code",
   "execution_count": 12,
   "id": "725b9336",
   "metadata": {
    "execution": {
     "iopub.execute_input": "2023-02-08T18:39:08.285319Z",
     "iopub.status.busy": "2023-02-08T18:39:08.284169Z",
     "iopub.status.idle": "2023-02-08T18:39:08.618307Z",
     "shell.execute_reply": "2023-02-08T18:39:08.617267Z"
    },
    "papermill": {
     "duration": 0.344938,
     "end_time": "2023-02-08T18:39:08.621000",
     "exception": false,
     "start_time": "2023-02-08T18:39:08.276062",
     "status": "completed"
    },
    "tags": []
   },
   "outputs": [],
   "source": [
    "base_model.load_weights(\"/kaggle/working/resnet50_weights.h5\")\n"
   ]
  },
  {
   "cell_type": "code",
   "execution_count": 13,
   "id": "baecb4a6",
   "metadata": {
    "execution": {
     "iopub.execute_input": "2023-02-08T18:39:08.633863Z",
     "iopub.status.busy": "2023-02-08T18:39:08.633254Z",
     "iopub.status.idle": "2023-02-08T18:39:08.648874Z",
     "shell.execute_reply": "2023-02-08T18:39:08.648042Z"
    },
    "papermill": {
     "duration": 0.024127,
     "end_time": "2023-02-08T18:39:08.650849",
     "exception": false,
     "start_time": "2023-02-08T18:39:08.626722",
     "status": "completed"
    },
    "tags": []
   },
   "outputs": [],
   "source": [
    "model = Model(inputs=base_model.input, outputs=headModel)"
   ]
  },
  {
   "cell_type": "code",
   "execution_count": 14,
   "id": "2d6f14c3",
   "metadata": {
    "execution": {
     "iopub.execute_input": "2023-02-08T18:39:08.662837Z",
     "iopub.status.busy": "2023-02-08T18:39:08.662575Z",
     "iopub.status.idle": "2023-02-08T18:39:08.711538Z",
     "shell.execute_reply": "2023-02-08T18:39:08.710437Z"
    },
    "papermill": {
     "duration": 0.058494,
     "end_time": "2023-02-08T18:39:08.714660",
     "exception": false,
     "start_time": "2023-02-08T18:39:08.656166",
     "status": "completed"
    },
    "tags": []
   },
   "outputs": [
    {
     "name": "stdout",
     "output_type": "stream",
     "text": [
      "<class 'numpy.ndarray'> <class 'numpy.ndarray'>\n",
      "(1664, 6) (1664, 150, 150, 3)\n"
     ]
    }
   ],
   "source": [
    "y_train = np.array(y_train)\n",
    "X_train = np.array(X_train)\n",
    "print(type(y_train),type(X_train))\n",
    "print(y_train.shape,X_train.shape)"
   ]
  },
  {
   "cell_type": "code",
   "execution_count": 15,
   "id": "2e5606ac",
   "metadata": {
    "execution": {
     "iopub.execute_input": "2023-02-08T18:39:08.727277Z",
     "iopub.status.busy": "2023-02-08T18:39:08.726944Z",
     "iopub.status.idle": "2023-02-08T18:39:08.731459Z",
     "shell.execute_reply": "2023-02-08T18:39:08.730521Z"
    },
    "papermill": {
     "duration": 0.012513,
     "end_time": "2023-02-08T18:39:08.733352",
     "exception": false,
     "start_time": "2023-02-08T18:39:08.720839",
     "status": "completed"
    },
    "tags": []
   },
   "outputs": [],
   "source": [
    "y_t = y_train.argmax(axis=1)"
   ]
  },
  {
   "cell_type": "code",
   "execution_count": 16,
   "id": "de8c1685",
   "metadata": {
    "execution": {
     "iopub.execute_input": "2023-02-08T18:39:08.744920Z",
     "iopub.status.busy": "2023-02-08T18:39:08.744667Z",
     "iopub.status.idle": "2023-02-08T18:39:09.055735Z",
     "shell.execute_reply": "2023-02-08T18:39:09.054773Z"
    },
    "papermill": {
     "duration": 0.319689,
     "end_time": "2023-02-08T18:39:09.058347",
     "exception": false,
     "start_time": "2023-02-08T18:39:08.738658",
     "status": "completed"
    },
    "tags": []
   },
   "outputs": [],
   "source": [
    "model.compile(optimizer=tf.keras.optimizers.SGD(learning_rate=0.01,nesterov=True,momentum=0.9), \n",
    "              loss=keras.losses.CategoricalCrossentropy(), metrics=['accuracy'])"
   ]
  },
  {
   "cell_type": "code",
   "execution_count": 17,
   "id": "3fbbbae9",
   "metadata": {
    "execution": {
     "iopub.execute_input": "2023-02-08T18:39:09.072029Z",
     "iopub.status.busy": "2023-02-08T18:39:09.071715Z",
     "iopub.status.idle": "2023-02-08T18:39:09.099986Z",
     "shell.execute_reply": "2023-02-08T18:39:09.098867Z"
    },
    "papermill": {
     "duration": 0.039276,
     "end_time": "2023-02-08T18:39:09.104010",
     "exception": false,
     "start_time": "2023-02-08T18:39:09.064734",
     "status": "completed"
    },
    "tags": []
   },
   "outputs": [
    {
     "name": "stdout",
     "output_type": "stream",
     "text": [
      "Model: \"model\"\n",
      "__________________________________________________________________________________________________\n",
      "Layer (type)                    Output Shape         Param #     Connected to                     \n",
      "==================================================================================================\n",
      "input_1 (InputLayer)            [(None, 150, 150, 3) 0                                            \n",
      "__________________________________________________________________________________________________\n",
      "zero_padding2d (ZeroPadding2D)  (None, 156, 156, 3)  0           input_1[0][0]                    \n",
      "__________________________________________________________________________________________________\n",
      "conv1 (Conv2D)                  (None, 75, 75, 64)   9472        zero_padding2d[0][0]             \n",
      "__________________________________________________________________________________________________\n",
      "bn_conv1 (BatchNormalization)   (None, 75, 75, 64)   256         conv1[0][0]                      \n",
      "__________________________________________________________________________________________________\n",
      "activation (Activation)         (None, 75, 75, 64)   0           bn_conv1[0][0]                   \n",
      "__________________________________________________________________________________________________\n",
      "max_pooling2d (MaxPooling2D)    (None, 37, 37, 64)   0           activation[0][0]                 \n",
      "__________________________________________________________________________________________________\n",
      "res2a_branch2a (Conv2D)         (None, 37, 37, 64)   4160        max_pooling2d[0][0]              \n",
      "__________________________________________________________________________________________________\n",
      "bn2a_branch2a (BatchNormalizati (None, 37, 37, 64)   256         res2a_branch2a[0][0]             \n",
      "__________________________________________________________________________________________________\n",
      "activation_1 (Activation)       (None, 37, 37, 64)   0           bn2a_branch2a[0][0]              \n",
      "__________________________________________________________________________________________________\n",
      "res2a_branch2b (Conv2D)         (None, 37, 37, 64)   36928       activation_1[0][0]               \n",
      "__________________________________________________________________________________________________\n",
      "bn2a_branch2b (BatchNormalizati (None, 37, 37, 64)   256         res2a_branch2b[0][0]             \n",
      "__________________________________________________________________________________________________\n",
      "activation_2 (Activation)       (None, 37, 37, 64)   0           bn2a_branch2b[0][0]              \n",
      "__________________________________________________________________________________________________\n",
      "res2a_branch2c (Conv2D)         (None, 37, 37, 256)  16640       activation_2[0][0]               \n",
      "__________________________________________________________________________________________________\n",
      "res2a_branch1 (Conv2D)          (None, 37, 37, 256)  16640       max_pooling2d[0][0]              \n",
      "__________________________________________________________________________________________________\n",
      "bn2a_branch2c (BatchNormalizati (None, 37, 37, 256)  1024        res2a_branch2c[0][0]             \n",
      "__________________________________________________________________________________________________\n",
      "bn2a_branch1 (BatchNormalizatio (None, 37, 37, 256)  1024        res2a_branch1[0][0]              \n",
      "__________________________________________________________________________________________________\n",
      "add (Add)                       (None, 37, 37, 256)  0           bn2a_branch2c[0][0]              \n",
      "                                                                 bn2a_branch1[0][0]               \n",
      "__________________________________________________________________________________________________\n",
      "activation_3 (Activation)       (None, 37, 37, 256)  0           add[0][0]                        \n",
      "__________________________________________________________________________________________________\n",
      "res2b_branch2a (Conv2D)         (None, 37, 37, 64)   16448       activation_3[0][0]               \n",
      "__________________________________________________________________________________________________\n",
      "bn2b_branch2a (BatchNormalizati (None, 37, 37, 64)   256         res2b_branch2a[0][0]             \n",
      "__________________________________________________________________________________________________\n",
      "activation_4 (Activation)       (None, 37, 37, 64)   0           bn2b_branch2a[0][0]              \n",
      "__________________________________________________________________________________________________\n",
      "res2b_branch2b (Conv2D)         (None, 37, 37, 64)   36928       activation_4[0][0]               \n",
      "__________________________________________________________________________________________________\n",
      "bn2b_branch2b (BatchNormalizati (None, 37, 37, 64)   256         res2b_branch2b[0][0]             \n",
      "__________________________________________________________________________________________________\n",
      "activation_5 (Activation)       (None, 37, 37, 64)   0           bn2b_branch2b[0][0]              \n",
      "__________________________________________________________________________________________________\n",
      "res2b_branch2c (Conv2D)         (None, 37, 37, 256)  16640       activation_5[0][0]               \n",
      "__________________________________________________________________________________________________\n",
      "bn2b_branch2c (BatchNormalizati (None, 37, 37, 256)  1024        res2b_branch2c[0][0]             \n",
      "__________________________________________________________________________________________________\n",
      "add_1 (Add)                     (None, 37, 37, 256)  0           bn2b_branch2c[0][0]              \n",
      "                                                                 activation_3[0][0]               \n",
      "__________________________________________________________________________________________________\n",
      "activation_6 (Activation)       (None, 37, 37, 256)  0           add_1[0][0]                      \n",
      "__________________________________________________________________________________________________\n",
      "res2c_branch2a (Conv2D)         (None, 37, 37, 64)   16448       activation_6[0][0]               \n",
      "__________________________________________________________________________________________________\n",
      "bn2c_branch2a (BatchNormalizati (None, 37, 37, 64)   256         res2c_branch2a[0][0]             \n",
      "__________________________________________________________________________________________________\n",
      "activation_7 (Activation)       (None, 37, 37, 64)   0           bn2c_branch2a[0][0]              \n",
      "__________________________________________________________________________________________________\n",
      "res2c_branch2b (Conv2D)         (None, 37, 37, 64)   36928       activation_7[0][0]               \n",
      "__________________________________________________________________________________________________\n",
      "bn2c_branch2b (BatchNormalizati (None, 37, 37, 64)   256         res2c_branch2b[0][0]             \n",
      "__________________________________________________________________________________________________\n",
      "activation_8 (Activation)       (None, 37, 37, 64)   0           bn2c_branch2b[0][0]              \n",
      "__________________________________________________________________________________________________\n",
      "res2c_branch2c (Conv2D)         (None, 37, 37, 256)  16640       activation_8[0][0]               \n",
      "__________________________________________________________________________________________________\n",
      "bn2c_branch2c (BatchNormalizati (None, 37, 37, 256)  1024        res2c_branch2c[0][0]             \n",
      "__________________________________________________________________________________________________\n",
      "add_2 (Add)                     (None, 37, 37, 256)  0           bn2c_branch2c[0][0]              \n",
      "                                                                 activation_6[0][0]               \n",
      "__________________________________________________________________________________________________\n",
      "activation_9 (Activation)       (None, 37, 37, 256)  0           add_2[0][0]                      \n",
      "__________________________________________________________________________________________________\n",
      "res3a_branch2a (Conv2D)         (None, 19, 19, 128)  32896       activation_9[0][0]               \n",
      "__________________________________________________________________________________________________\n",
      "bn3a_branch2a (BatchNormalizati (None, 19, 19, 128)  512         res3a_branch2a[0][0]             \n",
      "__________________________________________________________________________________________________\n",
      "activation_10 (Activation)      (None, 19, 19, 128)  0           bn3a_branch2a[0][0]              \n",
      "__________________________________________________________________________________________________\n",
      "res3a_branch2b (Conv2D)         (None, 19, 19, 128)  147584      activation_10[0][0]              \n",
      "__________________________________________________________________________________________________\n",
      "bn3a_branch2b (BatchNormalizati (None, 19, 19, 128)  512         res3a_branch2b[0][0]             \n",
      "__________________________________________________________________________________________________\n",
      "activation_11 (Activation)      (None, 19, 19, 128)  0           bn3a_branch2b[0][0]              \n",
      "__________________________________________________________________________________________________\n",
      "res3a_branch2c (Conv2D)         (None, 19, 19, 512)  66048       activation_11[0][0]              \n",
      "__________________________________________________________________________________________________\n",
      "res3a_branch1 (Conv2D)          (None, 19, 19, 512)  131584      activation_9[0][0]               \n",
      "__________________________________________________________________________________________________\n",
      "bn3a_branch2c (BatchNormalizati (None, 19, 19, 512)  2048        res3a_branch2c[0][0]             \n",
      "__________________________________________________________________________________________________\n",
      "bn3a_branch1 (BatchNormalizatio (None, 19, 19, 512)  2048        res3a_branch1[0][0]              \n",
      "__________________________________________________________________________________________________\n",
      "add_3 (Add)                     (None, 19, 19, 512)  0           bn3a_branch2c[0][0]              \n",
      "                                                                 bn3a_branch1[0][0]               \n",
      "__________________________________________________________________________________________________\n",
      "activation_12 (Activation)      (None, 19, 19, 512)  0           add_3[0][0]                      \n",
      "__________________________________________________________________________________________________\n",
      "res3b_branch2a (Conv2D)         (None, 19, 19, 128)  65664       activation_12[0][0]              \n",
      "__________________________________________________________________________________________________\n",
      "bn3b_branch2a (BatchNormalizati (None, 19, 19, 128)  512         res3b_branch2a[0][0]             \n",
      "__________________________________________________________________________________________________\n",
      "activation_13 (Activation)      (None, 19, 19, 128)  0           bn3b_branch2a[0][0]              \n",
      "__________________________________________________________________________________________________\n",
      "res3b_branch2b (Conv2D)         (None, 19, 19, 128)  147584      activation_13[0][0]              \n",
      "__________________________________________________________________________________________________\n",
      "bn3b_branch2b (BatchNormalizati (None, 19, 19, 128)  512         res3b_branch2b[0][0]             \n",
      "__________________________________________________________________________________________________\n",
      "activation_14 (Activation)      (None, 19, 19, 128)  0           bn3b_branch2b[0][0]              \n",
      "__________________________________________________________________________________________________\n",
      "res3b_branch2c (Conv2D)         (None, 19, 19, 512)  66048       activation_14[0][0]              \n",
      "__________________________________________________________________________________________________\n",
      "bn3b_branch2c (BatchNormalizati (None, 19, 19, 512)  2048        res3b_branch2c[0][0]             \n",
      "__________________________________________________________________________________________________\n",
      "add_4 (Add)                     (None, 19, 19, 512)  0           bn3b_branch2c[0][0]              \n",
      "                                                                 activation_12[0][0]              \n",
      "__________________________________________________________________________________________________\n",
      "activation_15 (Activation)      (None, 19, 19, 512)  0           add_4[0][0]                      \n",
      "__________________________________________________________________________________________________\n",
      "res3c_branch2a (Conv2D)         (None, 19, 19, 128)  65664       activation_15[0][0]              \n",
      "__________________________________________________________________________________________________\n",
      "bn3c_branch2a (BatchNormalizati (None, 19, 19, 128)  512         res3c_branch2a[0][0]             \n",
      "__________________________________________________________________________________________________\n",
      "activation_16 (Activation)      (None, 19, 19, 128)  0           bn3c_branch2a[0][0]              \n",
      "__________________________________________________________________________________________________\n",
      "res3c_branch2b (Conv2D)         (None, 19, 19, 128)  147584      activation_16[0][0]              \n",
      "__________________________________________________________________________________________________\n",
      "bn3c_branch2b (BatchNormalizati (None, 19, 19, 128)  512         res3c_branch2b[0][0]             \n",
      "__________________________________________________________________________________________________\n",
      "activation_17 (Activation)      (None, 19, 19, 128)  0           bn3c_branch2b[0][0]              \n",
      "__________________________________________________________________________________________________\n",
      "res3c_branch2c (Conv2D)         (None, 19, 19, 512)  66048       activation_17[0][0]              \n",
      "__________________________________________________________________________________________________\n",
      "bn3c_branch2c (BatchNormalizati (None, 19, 19, 512)  2048        res3c_branch2c[0][0]             \n",
      "__________________________________________________________________________________________________\n",
      "add_5 (Add)                     (None, 19, 19, 512)  0           bn3c_branch2c[0][0]              \n",
      "                                                                 activation_15[0][0]              \n",
      "__________________________________________________________________________________________________\n",
      "activation_18 (Activation)      (None, 19, 19, 512)  0           add_5[0][0]                      \n",
      "__________________________________________________________________________________________________\n",
      "res3d_branch2a (Conv2D)         (None, 19, 19, 128)  65664       activation_18[0][0]              \n",
      "__________________________________________________________________________________________________\n",
      "bn3d_branch2a (BatchNormalizati (None, 19, 19, 128)  512         res3d_branch2a[0][0]             \n",
      "__________________________________________________________________________________________________\n",
      "activation_19 (Activation)      (None, 19, 19, 128)  0           bn3d_branch2a[0][0]              \n",
      "__________________________________________________________________________________________________\n",
      "res3d_branch2b (Conv2D)         (None, 19, 19, 128)  147584      activation_19[0][0]              \n",
      "__________________________________________________________________________________________________\n",
      "bn3d_branch2b (BatchNormalizati (None, 19, 19, 128)  512         res3d_branch2b[0][0]             \n",
      "__________________________________________________________________________________________________\n",
      "activation_20 (Activation)      (None, 19, 19, 128)  0           bn3d_branch2b[0][0]              \n",
      "__________________________________________________________________________________________________\n",
      "res3d_branch2c (Conv2D)         (None, 19, 19, 512)  66048       activation_20[0][0]              \n",
      "__________________________________________________________________________________________________\n",
      "bn3d_branch2c (BatchNormalizati (None, 19, 19, 512)  2048        res3d_branch2c[0][0]             \n",
      "__________________________________________________________________________________________________\n",
      "add_6 (Add)                     (None, 19, 19, 512)  0           bn3d_branch2c[0][0]              \n",
      "                                                                 activation_18[0][0]              \n",
      "__________________________________________________________________________________________________\n",
      "activation_21 (Activation)      (None, 19, 19, 512)  0           add_6[0][0]                      \n",
      "__________________________________________________________________________________________________\n",
      "res4a_branch2a (Conv2D)         (None, 10, 10, 256)  131328      activation_21[0][0]              \n",
      "__________________________________________________________________________________________________\n",
      "bn4a_branch2a (BatchNormalizati (None, 10, 10, 256)  1024        res4a_branch2a[0][0]             \n",
      "__________________________________________________________________________________________________\n",
      "activation_22 (Activation)      (None, 10, 10, 256)  0           bn4a_branch2a[0][0]              \n",
      "__________________________________________________________________________________________________\n",
      "res4a_branch2b (Conv2D)         (None, 10, 10, 256)  590080      activation_22[0][0]              \n",
      "__________________________________________________________________________________________________\n",
      "bn4a_branch2b (BatchNormalizati (None, 10, 10, 256)  1024        res4a_branch2b[0][0]             \n",
      "__________________________________________________________________________________________________\n",
      "activation_23 (Activation)      (None, 10, 10, 256)  0           bn4a_branch2b[0][0]              \n",
      "__________________________________________________________________________________________________\n",
      "res4a_branch2c (Conv2D)         (None, 10, 10, 1024) 263168      activation_23[0][0]              \n",
      "__________________________________________________________________________________________________\n",
      "res4a_branch1 (Conv2D)          (None, 10, 10, 1024) 525312      activation_21[0][0]              \n",
      "__________________________________________________________________________________________________\n",
      "bn4a_branch2c (BatchNormalizati (None, 10, 10, 1024) 4096        res4a_branch2c[0][0]             \n",
      "__________________________________________________________________________________________________\n",
      "bn4a_branch1 (BatchNormalizatio (None, 10, 10, 1024) 4096        res4a_branch1[0][0]              \n",
      "__________________________________________________________________________________________________\n",
      "add_7 (Add)                     (None, 10, 10, 1024) 0           bn4a_branch2c[0][0]              \n",
      "                                                                 bn4a_branch1[0][0]               \n",
      "__________________________________________________________________________________________________\n",
      "activation_24 (Activation)      (None, 10, 10, 1024) 0           add_7[0][0]                      \n",
      "__________________________________________________________________________________________________\n",
      "res4b_branch2a (Conv2D)         (None, 10, 10, 256)  262400      activation_24[0][0]              \n",
      "__________________________________________________________________________________________________\n",
      "bn4b_branch2a (BatchNormalizati (None, 10, 10, 256)  1024        res4b_branch2a[0][0]             \n",
      "__________________________________________________________________________________________________\n",
      "activation_25 (Activation)      (None, 10, 10, 256)  0           bn4b_branch2a[0][0]              \n",
      "__________________________________________________________________________________________________\n",
      "res4b_branch2b (Conv2D)         (None, 10, 10, 256)  590080      activation_25[0][0]              \n",
      "__________________________________________________________________________________________________\n",
      "bn4b_branch2b (BatchNormalizati (None, 10, 10, 256)  1024        res4b_branch2b[0][0]             \n",
      "__________________________________________________________________________________________________\n",
      "activation_26 (Activation)      (None, 10, 10, 256)  0           bn4b_branch2b[0][0]              \n",
      "__________________________________________________________________________________________________\n",
      "res4b_branch2c (Conv2D)         (None, 10, 10, 1024) 263168      activation_26[0][0]              \n",
      "__________________________________________________________________________________________________\n",
      "bn4b_branch2c (BatchNormalizati (None, 10, 10, 1024) 4096        res4b_branch2c[0][0]             \n",
      "__________________________________________________________________________________________________\n",
      "add_8 (Add)                     (None, 10, 10, 1024) 0           bn4b_branch2c[0][0]              \n",
      "                                                                 activation_24[0][0]              \n",
      "__________________________________________________________________________________________________\n",
      "activation_27 (Activation)      (None, 10, 10, 1024) 0           add_8[0][0]                      \n",
      "__________________________________________________________________________________________________\n",
      "res4c_branch2a (Conv2D)         (None, 10, 10, 256)  262400      activation_27[0][0]              \n",
      "__________________________________________________________________________________________________\n",
      "bn4c_branch2a (BatchNormalizati (None, 10, 10, 256)  1024        res4c_branch2a[0][0]             \n",
      "__________________________________________________________________________________________________\n",
      "activation_28 (Activation)      (None, 10, 10, 256)  0           bn4c_branch2a[0][0]              \n",
      "__________________________________________________________________________________________________\n",
      "res4c_branch2b (Conv2D)         (None, 10, 10, 256)  590080      activation_28[0][0]              \n",
      "__________________________________________________________________________________________________\n",
      "bn4c_branch2b (BatchNormalizati (None, 10, 10, 256)  1024        res4c_branch2b[0][0]             \n",
      "__________________________________________________________________________________________________\n",
      "activation_29 (Activation)      (None, 10, 10, 256)  0           bn4c_branch2b[0][0]              \n",
      "__________________________________________________________________________________________________\n",
      "res4c_branch2c (Conv2D)         (None, 10, 10, 1024) 263168      activation_29[0][0]              \n",
      "__________________________________________________________________________________________________\n",
      "bn4c_branch2c (BatchNormalizati (None, 10, 10, 1024) 4096        res4c_branch2c[0][0]             \n",
      "__________________________________________________________________________________________________\n",
      "add_9 (Add)                     (None, 10, 10, 1024) 0           bn4c_branch2c[0][0]              \n",
      "                                                                 activation_27[0][0]              \n",
      "__________________________________________________________________________________________________\n",
      "activation_30 (Activation)      (None, 10, 10, 1024) 0           add_9[0][0]                      \n",
      "__________________________________________________________________________________________________\n",
      "res4d_branch2a (Conv2D)         (None, 10, 10, 256)  262400      activation_30[0][0]              \n",
      "__________________________________________________________________________________________________\n",
      "bn4d_branch2a (BatchNormalizati (None, 10, 10, 256)  1024        res4d_branch2a[0][0]             \n",
      "__________________________________________________________________________________________________\n",
      "activation_31 (Activation)      (None, 10, 10, 256)  0           bn4d_branch2a[0][0]              \n",
      "__________________________________________________________________________________________________\n",
      "res4d_branch2b (Conv2D)         (None, 10, 10, 256)  590080      activation_31[0][0]              \n",
      "__________________________________________________________________________________________________\n",
      "bn4d_branch2b (BatchNormalizati (None, 10, 10, 256)  1024        res4d_branch2b[0][0]             \n",
      "__________________________________________________________________________________________________\n",
      "activation_32 (Activation)      (None, 10, 10, 256)  0           bn4d_branch2b[0][0]              \n",
      "__________________________________________________________________________________________________\n",
      "res4d_branch2c (Conv2D)         (None, 10, 10, 1024) 263168      activation_32[0][0]              \n",
      "__________________________________________________________________________________________________\n",
      "bn4d_branch2c (BatchNormalizati (None, 10, 10, 1024) 4096        res4d_branch2c[0][0]             \n",
      "__________________________________________________________________________________________________\n",
      "add_10 (Add)                    (None, 10, 10, 1024) 0           bn4d_branch2c[0][0]              \n",
      "                                                                 activation_30[0][0]              \n",
      "__________________________________________________________________________________________________\n",
      "activation_33 (Activation)      (None, 10, 10, 1024) 0           add_10[0][0]                     \n",
      "__________________________________________________________________________________________________\n",
      "res4e_branch2a (Conv2D)         (None, 10, 10, 256)  262400      activation_33[0][0]              \n",
      "__________________________________________________________________________________________________\n",
      "bn4e_branch2a (BatchNormalizati (None, 10, 10, 256)  1024        res4e_branch2a[0][0]             \n",
      "__________________________________________________________________________________________________\n",
      "activation_34 (Activation)      (None, 10, 10, 256)  0           bn4e_branch2a[0][0]              \n",
      "__________________________________________________________________________________________________\n",
      "res4e_branch2b (Conv2D)         (None, 10, 10, 256)  590080      activation_34[0][0]              \n",
      "__________________________________________________________________________________________________\n",
      "bn4e_branch2b (BatchNormalizati (None, 10, 10, 256)  1024        res4e_branch2b[0][0]             \n",
      "__________________________________________________________________________________________________\n",
      "activation_35 (Activation)      (None, 10, 10, 256)  0           bn4e_branch2b[0][0]              \n",
      "__________________________________________________________________________________________________\n",
      "res4e_branch2c (Conv2D)         (None, 10, 10, 1024) 263168      activation_35[0][0]              \n",
      "__________________________________________________________________________________________________\n",
      "bn4e_branch2c (BatchNormalizati (None, 10, 10, 1024) 4096        res4e_branch2c[0][0]             \n",
      "__________________________________________________________________________________________________\n",
      "add_11 (Add)                    (None, 10, 10, 1024) 0           bn4e_branch2c[0][0]              \n",
      "                                                                 activation_33[0][0]              \n",
      "__________________________________________________________________________________________________\n",
      "activation_36 (Activation)      (None, 10, 10, 1024) 0           add_11[0][0]                     \n",
      "__________________________________________________________________________________________________\n",
      "res4f_branch2a (Conv2D)         (None, 10, 10, 256)  262400      activation_36[0][0]              \n",
      "__________________________________________________________________________________________________\n",
      "bn4f_branch2a (BatchNormalizati (None, 10, 10, 256)  1024        res4f_branch2a[0][0]             \n",
      "__________________________________________________________________________________________________\n",
      "activation_37 (Activation)      (None, 10, 10, 256)  0           bn4f_branch2a[0][0]              \n",
      "__________________________________________________________________________________________________\n",
      "res4f_branch2b (Conv2D)         (None, 10, 10, 256)  590080      activation_37[0][0]              \n",
      "__________________________________________________________________________________________________\n",
      "bn4f_branch2b (BatchNormalizati (None, 10, 10, 256)  1024        res4f_branch2b[0][0]             \n",
      "__________________________________________________________________________________________________\n",
      "activation_38 (Activation)      (None, 10, 10, 256)  0           bn4f_branch2b[0][0]              \n",
      "__________________________________________________________________________________________________\n",
      "res4f_branch2c (Conv2D)         (None, 10, 10, 1024) 263168      activation_38[0][0]              \n",
      "__________________________________________________________________________________________________\n",
      "bn4f_branch2c (BatchNormalizati (None, 10, 10, 1024) 4096        res4f_branch2c[0][0]             \n",
      "__________________________________________________________________________________________________\n",
      "add_12 (Add)                    (None, 10, 10, 1024) 0           bn4f_branch2c[0][0]              \n",
      "                                                                 activation_36[0][0]              \n",
      "__________________________________________________________________________________________________\n",
      "activation_39 (Activation)      (None, 10, 10, 1024) 0           add_12[0][0]                     \n",
      "__________________________________________________________________________________________________\n",
      "res5a_branch2a (Conv2D)         (None, 5, 5, 512)    524800      activation_39[0][0]              \n",
      "__________________________________________________________________________________________________\n",
      "bn5a_branch2a (BatchNormalizati (None, 5, 5, 512)    2048        res5a_branch2a[0][0]             \n",
      "__________________________________________________________________________________________________\n",
      "activation_40 (Activation)      (None, 5, 5, 512)    0           bn5a_branch2a[0][0]              \n",
      "__________________________________________________________________________________________________\n",
      "res5a_branch2b (Conv2D)         (None, 5, 5, 512)    2359808     activation_40[0][0]              \n",
      "__________________________________________________________________________________________________\n",
      "bn5a_branch2b (BatchNormalizati (None, 5, 5, 512)    2048        res5a_branch2b[0][0]             \n",
      "__________________________________________________________________________________________________\n",
      "activation_41 (Activation)      (None, 5, 5, 512)    0           bn5a_branch2b[0][0]              \n",
      "__________________________________________________________________________________________________\n",
      "res5a_branch2c (Conv2D)         (None, 5, 5, 2048)   1050624     activation_41[0][0]              \n",
      "__________________________________________________________________________________________________\n",
      "res5a_branch1 (Conv2D)          (None, 5, 5, 2048)   2099200     activation_39[0][0]              \n",
      "__________________________________________________________________________________________________\n",
      "bn5a_branch2c (BatchNormalizati (None, 5, 5, 2048)   8192        res5a_branch2c[0][0]             \n",
      "__________________________________________________________________________________________________\n",
      "bn5a_branch1 (BatchNormalizatio (None, 5, 5, 2048)   8192        res5a_branch1[0][0]              \n",
      "__________________________________________________________________________________________________\n",
      "add_13 (Add)                    (None, 5, 5, 2048)   0           bn5a_branch2c[0][0]              \n",
      "                                                                 bn5a_branch1[0][0]               \n",
      "__________________________________________________________________________________________________\n",
      "activation_42 (Activation)      (None, 5, 5, 2048)   0           add_13[0][0]                     \n",
      "__________________________________________________________________________________________________\n",
      "res5b_branch2a (Conv2D)         (None, 5, 5, 512)    1049088     activation_42[0][0]              \n",
      "__________________________________________________________________________________________________\n",
      "bn5b_branch2a (BatchNormalizati (None, 5, 5, 512)    2048        res5b_branch2a[0][0]             \n",
      "__________________________________________________________________________________________________\n",
      "activation_43 (Activation)      (None, 5, 5, 512)    0           bn5b_branch2a[0][0]              \n",
      "__________________________________________________________________________________________________\n",
      "res5b_branch2b (Conv2D)         (None, 5, 5, 512)    2359808     activation_43[0][0]              \n",
      "__________________________________________________________________________________________________\n",
      "bn5b_branch2b (BatchNormalizati (None, 5, 5, 512)    2048        res5b_branch2b[0][0]             \n",
      "__________________________________________________________________________________________________\n",
      "activation_44 (Activation)      (None, 5, 5, 512)    0           bn5b_branch2b[0][0]              \n",
      "__________________________________________________________________________________________________\n",
      "res5b_branch2c (Conv2D)         (None, 5, 5, 2048)   1050624     activation_44[0][0]              \n",
      "__________________________________________________________________________________________________\n",
      "bn5b_branch2c (BatchNormalizati (None, 5, 5, 2048)   8192        res5b_branch2c[0][0]             \n",
      "__________________________________________________________________________________________________\n",
      "add_14 (Add)                    (None, 5, 5, 2048)   0           bn5b_branch2c[0][0]              \n",
      "                                                                 activation_42[0][0]              \n",
      "__________________________________________________________________________________________________\n",
      "activation_45 (Activation)      (None, 5, 5, 2048)   0           add_14[0][0]                     \n",
      "__________________________________________________________________________________________________\n",
      "res5c_branch2a (Conv2D)         (None, 5, 5, 512)    1049088     activation_45[0][0]              \n",
      "__________________________________________________________________________________________________\n",
      "bn5c_branch2a (BatchNormalizati (None, 5, 5, 512)    2048        res5c_branch2a[0][0]             \n",
      "__________________________________________________________________________________________________\n",
      "activation_46 (Activation)      (None, 5, 5, 512)    0           bn5c_branch2a[0][0]              \n",
      "__________________________________________________________________________________________________\n",
      "res5c_branch2b (Conv2D)         (None, 5, 5, 512)    2359808     activation_46[0][0]              \n",
      "__________________________________________________________________________________________________\n",
      "bn5c_branch2b (BatchNormalizati (None, 5, 5, 512)    2048        res5c_branch2b[0][0]             \n",
      "__________________________________________________________________________________________________\n",
      "activation_47 (Activation)      (None, 5, 5, 512)    0           bn5c_branch2b[0][0]              \n",
      "__________________________________________________________________________________________________\n",
      "res5c_branch2c (Conv2D)         (None, 5, 5, 2048)   1050624     activation_47[0][0]              \n",
      "__________________________________________________________________________________________________\n",
      "bn5c_branch2c (BatchNormalizati (None, 5, 5, 2048)   8192        res5c_branch2c[0][0]             \n",
      "__________________________________________________________________________________________________\n",
      "add_15 (Add)                    (None, 5, 5, 2048)   0           bn5c_branch2c[0][0]              \n",
      "                                                                 activation_45[0][0]              \n",
      "__________________________________________________________________________________________________\n",
      "activation_48 (Activation)      (None, 5, 5, 2048)   0           add_15[0][0]                     \n",
      "__________________________________________________________________________________________________\n",
      "average_pooling2d (AveragePooli (None, 3, 3, 2048)   0           activation_48[0][0]              \n",
      "__________________________________________________________________________________________________\n",
      "flatten (Flatten)               (None, 18432)        0           average_pooling2d[0][0]          \n",
      "__________________________________________________________________________________________________\n",
      "fc1 (Dense)                     (None, 256)          4718848     flatten[0][0]                    \n",
      "__________________________________________________________________________________________________\n",
      "fc2 (Dense)                     (None, 128)          32896       fc1[0][0]                        \n",
      "__________________________________________________________________________________________________\n",
      "fc3 (Dense)                     (None, 6)            774         fc2[0][0]                        \n",
      "==================================================================================================\n",
      "Total params: 28,340,230\n",
      "Trainable params: 28,287,110\n",
      "Non-trainable params: 53,120\n",
      "__________________________________________________________________________________________________\n"
     ]
    }
   ],
   "source": [
    "model.summary()"
   ]
  },
  {
   "cell_type": "code",
   "execution_count": 18,
   "id": "7410c3e3",
   "metadata": {
    "execution": {
     "iopub.execute_input": "2023-02-08T18:39:09.124556Z",
     "iopub.status.busy": "2023-02-08T18:39:09.122970Z",
     "iopub.status.idle": "2023-02-08T18:40:08.021451Z",
     "shell.execute_reply": "2023-02-08T18:40:08.020139Z"
    },
    "papermill": {
     "duration": 58.908769,
     "end_time": "2023-02-08T18:40:08.024136",
     "exception": false,
     "start_time": "2023-02-08T18:39:09.115367",
     "status": "completed"
    },
    "tags": []
   },
   "outputs": [
    {
     "name": "stdout",
     "output_type": "stream",
     "text": [
      "(1664, 150, 150, 3) (1664, 6)\n"
     ]
    },
    {
     "name": "stderr",
     "output_type": "stream",
     "text": [
      "2023-02-08 18:39:09.376463: I tensorflow/compiler/mlir/mlir_graph_optimization_pass.cc:185] None of the MLIR Optimization Passes are enabled (registered 2)\n"
     ]
    },
    {
     "name": "stdout",
     "output_type": "stream",
     "text": [
      "Epoch 1/10\n"
     ]
    },
    {
     "name": "stderr",
     "output_type": "stream",
     "text": [
      "2023-02-08 18:39:14.967890: I tensorflow/stream_executor/cuda/cuda_dnn.cc:369] Loaded cuDNN version 8005\n"
     ]
    },
    {
     "name": "stdout",
     "output_type": "stream",
     "text": [
      "42/42 [==============================] - 18s 141ms/step - loss: 0.6969 - accuracy: 0.7949 - val_loss: 1.9722 - val_accuracy: 0.5526\n",
      "Epoch 2/10\n",
      "42/42 [==============================] - 4s 107ms/step - loss: 0.3653 - accuracy: 0.9031 - val_loss: 2.4270 - val_accuracy: 0.3664\n",
      "Epoch 3/10\n",
      "42/42 [==============================] - 5s 108ms/step - loss: 0.1628 - accuracy: 0.9459 - val_loss: 1.4012 - val_accuracy: 0.6997\n",
      "Epoch 4/10\n",
      "42/42 [==============================] - 4s 107ms/step - loss: 0.0778 - accuracy: 0.9730 - val_loss: 0.6132 - val_accuracy: 0.8078\n",
      "Epoch 5/10\n",
      "42/42 [==============================] - 5s 108ms/step - loss: 0.1025 - accuracy: 0.9752 - val_loss: 16.5451 - val_accuracy: 0.5255\n",
      "Epoch 6/10\n",
      "42/42 [==============================] - 5s 108ms/step - loss: 0.1684 - accuracy: 0.9534 - val_loss: 3.4557 - val_accuracy: 0.4595\n",
      "Epoch 7/10\n",
      "42/42 [==============================] - 5s 114ms/step - loss: 0.1118 - accuracy: 0.9722 - val_loss: 0.9083 - val_accuracy: 0.6787\n",
      "Epoch 8/10\n",
      "42/42 [==============================] - 5s 108ms/step - loss: 0.2467 - accuracy: 0.9504 - val_loss: 1.2283 - val_accuracy: 0.6096\n",
      "Epoch 9/10\n",
      "42/42 [==============================] - 4s 107ms/step - loss: 0.1069 - accuracy: 0.9737 - val_loss: 1.0053 - val_accuracy: 0.7387\n",
      "Epoch 10/10\n",
      "42/42 [==============================] - 5s 108ms/step - loss: 0.0261 - accuracy: 0.9902 - val_loss: 0.5455 - val_accuracy: 0.8438\n"
     ]
    }
   ],
   "source": [
    "print(X_train.shape, y_train.shape)\n",
    "history = model.fit(X_train,y_train,validation_split=0.2,batch_size=32,epochs=10)"
   ]
  },
  {
   "cell_type": "code",
   "execution_count": 19,
   "id": "2ecc4e49",
   "metadata": {
    "execution": {
     "iopub.execute_input": "2023-02-08T18:40:08.085263Z",
     "iopub.status.busy": "2023-02-08T18:40:08.084283Z",
     "iopub.status.idle": "2023-02-08T18:40:20.791936Z",
     "shell.execute_reply": "2023-02-08T18:40:20.789713Z"
    },
    "papermill": {
     "duration": 12.741279,
     "end_time": "2023-02-08T18:40:20.795023",
     "exception": false,
     "start_time": "2023-02-08T18:40:08.053744",
     "status": "completed"
    },
    "tags": []
   },
   "outputs": [
    {
     "name": "stderr",
     "output_type": "stream",
     "text": [
      "100%|██████████| 688/688 [00:10<00:00, 63.77it/s]\n"
     ]
    },
    {
     "name": "stdout",
     "output_type": "stream",
     "text": [
      "(688, 150, 150, 3)\n"
     ]
    },
    {
     "name": "stderr",
     "output_type": "stream",
     "text": [
      "100%|██████████| 688/688 [00:00<00:00, 226915.24it/s]\n"
     ]
    }
   ],
   "source": [
    "pred_csv_data = []\n",
    "x=[]\n",
    "TEST_DIR = '/kaggle/input/nn23-sports-image-classification/Test'\n",
    "for img in tqdm(os.listdir(TEST_DIR)):\n",
    "    prediction = []\n",
    "    path = os.path.join(TEST_DIR, img)\n",
    "    img_ = cv2.imread(path)\n",
    "    test_img = cv2.resize(img_, (IMG_SIZE, IMG_SIZE))\n",
    "    test_img = test_img.reshape(IMG_SIZE, IMG_SIZE, 3)\n",
    "    x.append([test_img])\n",
    "    \n",
    "x = np.array(x)\n",
    "x = x.reshape(-1,IMG_SIZE, IMG_SIZE, 3)\n",
    "print(x.shape)\n",
    "prediction = model.predict(x)\n",
    "i=0\n",
    "for img in tqdm(os.listdir(TEST_DIR)):\n",
    "    index = prediction[i].argmax()\n",
    "#     print(index)\n",
    "    pred_csv_data.append([img,index])\n",
    "    i+=1\n",
    "#index = prediction.argmax(axis=1)\n",
    "#pred_csv_data.append([img,index])\n",
    "\n",
    "pred_csv_header = ['image_name', 'label']\n",
    "with open('test3.csv', 'w', newline='') as file:\n",
    "    writer = csv.writer(file)\n",
    "    writer.writerow(pred_csv_header)\n",
    "    # Use writerows() not writerow()\n",
    "    writer.writerows(pred_csv_data)\n"
   ]
  },
  {
   "cell_type": "code",
   "execution_count": 20,
   "id": "95060cc4",
   "metadata": {
    "execution": {
     "iopub.execute_input": "2023-02-08T18:40:20.866685Z",
     "iopub.status.busy": "2023-02-08T18:40:20.865685Z",
     "iopub.status.idle": "2023-02-08T18:40:20.872095Z",
     "shell.execute_reply": "2023-02-08T18:40:20.871045Z"
    },
    "papermill": {
     "duration": 0.044126,
     "end_time": "2023-02-08T18:40:20.874530",
     "exception": false,
     "start_time": "2023-02-08T18:40:20.830404",
     "status": "completed"
    },
    "tags": []
   },
   "outputs": [],
   "source": [
    "pred_csv_header = ['image_name', 'label']\n",
    "with open('ResNet.csv', 'w', newline='') as file:\n",
    "    writer = csv.writer(file)\n",
    "    writer.writerow(pred_csv_header)\n",
    "#     writer.writerows(result)"
   ]
  }
 ],
 "metadata": {
  "kernelspec": {
   "display_name": "Python 3",
   "language": "python",
   "name": "python3"
  },
  "language_info": {
   "codemirror_mode": {
    "name": "ipython",
    "version": 3
   },
   "file_extension": ".py",
   "mimetype": "text/x-python",
   "name": "python",
   "nbconvert_exporter": "python",
   "pygments_lexer": "ipython3",
   "version": "3.7.12"
  },
  "papermill": {
   "default_parameters": {},
   "duration": 127.39989,
   "end_time": "2023-02-08T18:40:24.729649",
   "environment_variables": {},
   "exception": null,
   "input_path": "__notebook__.ipynb",
   "output_path": "__notebook__.ipynb",
   "parameters": {},
   "start_time": "2023-02-08T18:38:17.329759",
   "version": "2.3.4"
  }
 },
 "nbformat": 4,
 "nbformat_minor": 5
}
